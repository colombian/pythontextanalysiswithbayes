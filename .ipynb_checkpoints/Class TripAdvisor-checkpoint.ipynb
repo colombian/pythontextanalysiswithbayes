{
 "cells": [
  {
   "cell_type": "markdown",
   "metadata": {},
   "source": [
    "## Carga de Datos"
   ]
  },
  {
   "cell_type": "code",
   "execution_count": 219,
   "metadata": {},
   "outputs": [
    {
     "data": {
      "text/html": [
       "<div>\n",
       "<style scoped>\n",
       "    .dataframe tbody tr th:only-of-type {\n",
       "        vertical-align: middle;\n",
       "    }\n",
       "\n",
       "    .dataframe tbody tr th {\n",
       "        vertical-align: top;\n",
       "    }\n",
       "\n",
       "    .dataframe thead th {\n",
       "        text-align: right;\n",
       "    }\n",
       "</style>\n",
       "<table border=\"1\" class=\"dataframe\">\n",
       "  <thead>\n",
       "    <tr style=\"text-align: right;\">\n",
       "      <th></th>\n",
       "      <th>rating</th>\n",
       "      <th>review</th>\n",
       "      <th>title</th>\n",
       "    </tr>\n",
       "  </thead>\n",
       "  <tbody>\n",
       "    <tr>\n",
       "      <td>0</td>\n",
       "      <td>50</td>\n",
       "      <td>What an experience. The hotel is centrally loc...</td>\n",
       "      <td>Beatiful Hotel</td>\n",
       "    </tr>\n",
       "    <tr>\n",
       "      <td>1</td>\n",
       "      <td>50</td>\n",
       "      <td>This hotel takes you back in time the best way...</td>\n",
       "      <td>Old world magic</td>\n",
       "    </tr>\n",
       "    <tr>\n",
       "      <td>2</td>\n",
       "      <td>50</td>\n",
       "      <td>Fantastic hotel in the heart of Antigua! The l...</td>\n",
       "      <td>Absolutely Wonderful</td>\n",
       "    </tr>\n",
       "    <tr>\n",
       "      <td>3</td>\n",
       "      <td>50</td>\n",
       "      <td>We had a dinner at this restaurant and had a g...</td>\n",
       "      <td>Restaurant at this hotel is great!</td>\n",
       "    </tr>\n",
       "    <tr>\n",
       "      <td>4</td>\n",
       "      <td>50</td>\n",
       "      <td>Loved every moment at this gorgeous hotel from...</td>\n",
       "      <td>exquisite location to explore Antigua from</td>\n",
       "    </tr>\n",
       "  </tbody>\n",
       "</table>\n",
       "</div>"
      ],
      "text/plain": [
       "   rating                                             review  \\\n",
       "0      50  What an experience. The hotel is centrally loc...   \n",
       "1      50  This hotel takes you back in time the best way...   \n",
       "2      50  Fantastic hotel in the heart of Antigua! The l...   \n",
       "3      50  We had a dinner at this restaurant and had a g...   \n",
       "4      50  Loved every moment at this gorgeous hotel from...   \n",
       "\n",
       "                                        title  \n",
       "0                              Beatiful Hotel  \n",
       "1                             Old world magic  \n",
       "2                        Absolutely Wonderful  \n",
       "3          Restaurant at this hotel is great!  \n",
       "4  exquisite location to explore Antigua from  "
      ]
     },
     "execution_count": 219,
     "metadata": {},
     "output_type": "execute_result"
    }
   ],
   "source": [
    "import pandas as pd\n",
    "\n",
    "scrapped = pd.read_csv(\"C:/Users/Daniel/Documents/maestria UVG/text mining y analisis de sentimiento/Tarea2/tripadvisor.csv\", quotechar='\"')\n",
    "scrapped.head()"
   ]
  },
  {
   "cell_type": "markdown",
   "metadata": {},
   "source": [
    "## Crear grupos por rating"
   ]
  },
  {
   "cell_type": "code",
   "execution_count": 220,
   "metadata": {},
   "outputs": [],
   "source": [
    "import re as re\n",
    "\n",
    "reviewByStars = list()\n",
    "for i in range(1,6):\n",
    "    fuente = scrapped[scrapped.rating==i*10]\n",
    "    new_corpus = list()\n",
    "    for text in fuente.review:\n",
    "        new_corpus.append(\n",
    "            re.split('\\W+',\n",
    "                     re.sub('\\r+|\\n+|,|\\s{2,}|\\t|\\[\\d+\\]','',text.lower())\n",
    "                    )\n",
    "        )\n",
    "    reviewByStars.append(pd.DataFrame(data={'title':fuente.title,'review':new_corpus,'rating':fuente.rating}))"
   ]
  },
  {
   "cell_type": "markdown",
   "metadata": {},
   "source": [
    "## Se separan los dataset de entrenamiento y se cuentan los tokens (por rating)"
   ]
  },
  {
   "cell_type": "code",
   "execution_count": 226,
   "metadata": {},
   "outputs": [],
   "source": [
    "## Esta funcion toma el bag of words, y crea un diccionario con los tokens y su ocurrencia.\n",
    "def getDictionary(BoW): #BoW --> Bag of Words\n",
    "    cuenta = {}\n",
    "    for word in BoW:\n",
    "        if word not in cuenta.keys():\n",
    "            cuenta[word]= 1\n",
    "        if word in cuenta.keys():\n",
    "            cuenta[word]+=1 \n",
    "    return cuenta\n",
    "\n",
    "def getBoW(reviews):\n",
    "    BoW = []\n",
    "    for review in reviews:\n",
    "        BoW+=review\n",
    "    return BoW\n",
    "\n",
    "# import random\n",
    "trainByRatings = list()\n",
    "testList = list()\n",
    "# acc = 0\n",
    "for scrap in reviewByStars:\n",
    "    largo = len(scrap)\n",
    "    temp=random.sample(list(scrap.review),largo)\n",
    "    train = temp[0:int(largo*0.8)]\n",
    "    test = temp[int(largo*0.8)+1:]\n",
    "\n",
    "    # Bag of Words\n",
    "    BoW=getBoW(train)\n",
    "    \n",
    "    for review in train:\n",
    "        BoW+=review\n",
    "#     vocabulary = len(set(BoW))\n",
    "    cuenta = getDictionary(BoW)\n",
    "            \n",
    "    testList.append(test)\n",
    "    trainByRatings.append(cuenta)\n",
    "#     acc=+1"
   ]
  },
  {
   "cell_type": "markdown",
   "metadata": {},
   "source": [
    "## se calcula la probabilidad de los ratings"
   ]
  },
  {
   "cell_type": "code",
   "execution_count": 222,
   "metadata": {},
   "outputs": [
    {
     "data": {
      "text/plain": [
       "[{'rating': 1, 'probability': 0.026287036441930714},\n",
       " {'rating': 2, 'probability': 0.029436339096342953},\n",
       " {'rating': 3, 'probability': 0.0680635002249502},\n",
       " {'rating': 4, 'probability': 0.21743042611993058},\n",
       " {'rating': 5, 'probability': 0.6587826981168455}]"
      ]
     },
     "execution_count": 222,
     "metadata": {},
     "output_type": "execute_result"
    }
   ],
   "source": [
    "# como calcular los vocabularios\n",
    "#len(trainByRatings[0].keys())\n",
    "\n",
    "reviewProbability=list()\n",
    "for i in range(0,5):\n",
    "    reviewProbability.append({'rating':i+1,'probability':len(reviewByStars[i])/len(scrapped)})\n",
    "reviewProbability"
   ]
  },
  {
   "cell_type": "markdown",
   "metadata": {},
   "source": [
    "## se entrena (alimenta) un modelo bayesiano"
   ]
  },
  {
   "cell_type": "code",
   "execution_count": 299,
   "metadata": {},
   "outputs": [],
   "source": [
    "import numpy as np\n",
    "def bayes(test_review, trained_dict,reviewProb):\n",
    "    BoW = set(getBoW([test_review]))\n",
    "    # encontrar el vocabulario\n",
    "    vacabulary = 0\n",
    "    for dicc in trained_dict:\n",
    "        vacabulary += len(dicc.keys())\n",
    "    \n",
    "    # contar el total de palabras en el entrenamiento\n",
    "    conteo_C = list()\n",
    "    for dicc in trained_dict:\n",
    "        conteo_C.append(sum(dicc.values()))\n",
    "\n",
    "    bayes_suavizado=list()\n",
    "    for i in range(0,len(reviewProbability)):\n",
    "        acc=1\n",
    "        for word in BoW:\n",
    "            try:\n",
    "                conteo_WC = trained_dict[i][word]\n",
    "            except:\n",
    "                conteo_WC = 0\n",
    "            acc = acc*(conteo_WC+1)/(conteo_C[i]+vacabulary)\n",
    "        bayes_suavizado.append([reviewProbability[i]['probability'] * acc,i+1])\n",
    "                               \n",
    "    return bayes_suavizado"
   ]
  },
  {
   "cell_type": "markdown",
   "metadata": {},
   "source": [
    "## prueba del modelo"
   ]
  },
  {
   "cell_type": "code",
   "execution_count": 334,
   "metadata": {},
   "outputs": [
    {
     "name": "stdout",
     "output_type": "stream",
     "text": [
      "most likely rating 2\n",
      "['they', 'gave', 'me', 'a', 'room', 'with', 'bad', 'pipes', 'blamed', 'the', 'volcano', 'for', 'the', 'dirty', 'water', 'and', 'were', 'irresponsible', 'for', 'letting', 'me', 'bath', 'with', 'this', 'water', 'when', 'tried', 'to', 'used', 'the', 'internet', 'voucher', 'i', 'had', 'a', 'message', 'that', 'is', 'was', 'already', 'being', 'used', 'they', 'replace', 'it', 'but', 'when', 'i', 'checked', 'out', 'they', 'charged', 'us', '8', '00', 'for', 'internet', 'and', 'didn', 't', 'said', 'they', 'were', 'charging', 'that', '']\n"
     ]
    }
   ],
   "source": [
    "# test de rating 10\n",
    "len(testList[0])\n",
    "reating_group = 1\n",
    "test=6\n",
    "\n",
    "result = bayes(testList[reating_group-1][test],trainByRatings,reviewProbability)\n",
    "prob = list()\n",
    "for i in result:\n",
    "    prob.append(i[0])\n",
    "index_min = np.argmax(prob)\n",
    "print('most likely rating '+str(result[index_min][1]))\n",
    "print(testList[reating_group-1][test])\n"
   ]
  }
 ],
 "metadata": {
  "kernelspec": {
   "display_name": "Python 3",
   "language": "python",
   "name": "python3"
  },
  "language_info": {
   "codemirror_mode": {
    "name": "ipython",
    "version": 3
   },
   "file_extension": ".py",
   "mimetype": "text/x-python",
   "name": "python",
   "nbconvert_exporter": "python",
   "pygments_lexer": "ipython3",
   "version": "3.7.4"
  }
 },
 "nbformat": 4,
 "nbformat_minor": 2
}
