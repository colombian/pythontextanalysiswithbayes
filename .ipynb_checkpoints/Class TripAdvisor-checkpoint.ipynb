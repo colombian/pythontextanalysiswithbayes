{
 "cells": [
  {
   "cell_type": "markdown",
   "metadata": {},
   "source": [
    "## Carga de Datos"
   ]
  },
  {
   "cell_type": "code",
   "execution_count": 1,
   "metadata": {},
   "outputs": [
    {
     "data": {
      "text/html": [
       "<div>\n",
       "<style scoped>\n",
       "    .dataframe tbody tr th:only-of-type {\n",
       "        vertical-align: middle;\n",
       "    }\n",
       "\n",
       "    .dataframe tbody tr th {\n",
       "        vertical-align: top;\n",
       "    }\n",
       "\n",
       "    .dataframe thead th {\n",
       "        text-align: right;\n",
       "    }\n",
       "</style>\n",
       "<table border=\"1\" class=\"dataframe\">\n",
       "  <thead>\n",
       "    <tr style=\"text-align: right;\">\n",
       "      <th></th>\n",
       "      <th>rating</th>\n",
       "      <th>review</th>\n",
       "      <th>title</th>\n",
       "    </tr>\n",
       "  </thead>\n",
       "  <tbody>\n",
       "    <tr>\n",
       "      <td>0</td>\n",
       "      <td>50</td>\n",
       "      <td>What an experience. The hotel is centrally loc...</td>\n",
       "      <td>Beatiful Hotel</td>\n",
       "    </tr>\n",
       "    <tr>\n",
       "      <td>1</td>\n",
       "      <td>50</td>\n",
       "      <td>This hotel takes you back in time the best way...</td>\n",
       "      <td>Old world magic</td>\n",
       "    </tr>\n",
       "    <tr>\n",
       "      <td>2</td>\n",
       "      <td>50</td>\n",
       "      <td>Fantastic hotel in the heart of Antigua! The l...</td>\n",
       "      <td>Absolutely Wonderful</td>\n",
       "    </tr>\n",
       "    <tr>\n",
       "      <td>3</td>\n",
       "      <td>50</td>\n",
       "      <td>We had a dinner at this restaurant and had a g...</td>\n",
       "      <td>Restaurant at this hotel is great!</td>\n",
       "    </tr>\n",
       "    <tr>\n",
       "      <td>4</td>\n",
       "      <td>50</td>\n",
       "      <td>Loved every moment at this gorgeous hotel from...</td>\n",
       "      <td>exquisite location to explore Antigua from</td>\n",
       "    </tr>\n",
       "  </tbody>\n",
       "</table>\n",
       "</div>"
      ],
      "text/plain": [
       "   rating                                             review  \\\n",
       "0      50  What an experience. The hotel is centrally loc...   \n",
       "1      50  This hotel takes you back in time the best way...   \n",
       "2      50  Fantastic hotel in the heart of Antigua! The l...   \n",
       "3      50  We had a dinner at this restaurant and had a g...   \n",
       "4      50  Loved every moment at this gorgeous hotel from...   \n",
       "\n",
       "                                        title  \n",
       "0                              Beatiful Hotel  \n",
       "1                             Old world magic  \n",
       "2                        Absolutely Wonderful  \n",
       "3          Restaurant at this hotel is great!  \n",
       "4  exquisite location to explore Antigua from  "
      ]
     },
     "execution_count": 1,
     "metadata": {},
     "output_type": "execute_result"
    }
   ],
   "source": [
    "import pandas as pd\n",
    "\n",
    "scrapped = pd.read_csv(\"C:/Users/Daniel/Documents/maestria UVG/text mining y analisis de sentimiento/Tarea2/tripadvisor.csv\", quotechar='\"')\n",
    "scrapped.head()"
   ]
  },
  {
   "cell_type": "markdown",
   "metadata": {},
   "source": [
    "## Exploracion de los datos"
   ]
  },
  {
   "cell_type": "code",
   "execution_count": 2,
   "metadata": {},
   "outputs": [
    {
     "data": {
      "text/plain": [
       "<Figure size 640x480 with 1 Axes>"
      ]
     },
     "metadata": {},
     "output_type": "display_data"
    }
   ],
   "source": [
    "import matplotlib.pyplot as plt\n",
    "import numpy as np\n",
    "\n",
    "agrupado = scrapped.groupby('rating').count()\n",
    "agrupado = agrupado.review.reset_index()\n",
    "fig = plt.figure()\n",
    "ax = fig.add_axes([0,0,1,1])\n",
    "\n",
    "rating = agrupado['rating']\n",
    "review = agrupado['review']\n",
    "ax.bar(rating,review)\n",
    "plt.show()"
   ]
  },
  {
   "cell_type": "markdown",
   "metadata": {},
   "source": [
    "Podemos apreciar que los reviews son mayor mente positivos. Veamos algunas propiedades más."
   ]
  },
  {
   "cell_type": "code",
   "execution_count": 3,
   "metadata": {},
   "outputs": [
    {
     "name": "stdout",
     "output_type": "stream",
     "text": [
      "El rating medio: 44.52985410373417\n",
      "Mediana de los rating: 50.0\n",
      "Desviacion standard de los rating: 9.359375517060032\n"
     ]
    }
   ],
   "source": [
    "print('El rating medio: ' + str(scrapped.rating.mean()))\n",
    "print('Mediana de los rating: ' + str(scrapped.rating.median()))\n",
    "print('Desviacion standard de los rating: ' + str(np.std(scrapped.rating)))"
   ]
  },
  {
   "cell_type": "markdown",
   "metadata": {},
   "source": [
    "## Crear grupos por rating"
   ]
  },
  {
   "cell_type": "code",
   "execution_count": 4,
   "metadata": {},
   "outputs": [],
   "source": [
    "import re as re\n",
    "\n",
    "reviewByStars = list()\n",
    "for i in range(1,6):\n",
    "    fuente = scrapped[scrapped.rating==i*10]\n",
    "    new_corpus = list()\n",
    "    for text in fuente.review:\n",
    "        new_corpus.append(\n",
    "            re.split('\\W+',\n",
    "                     re.sub('\\r+|\\n+|,|\\s{2,}|\\t|\\[\\d+\\]','',text.lower())\n",
    "                    )\n",
    "        )\n",
    "    reviewByStars.append(pd.DataFrame(data={'title':fuente.title,'review':new_corpus,'rating':fuente.rating}))"
   ]
  },
  {
   "cell_type": "markdown",
   "metadata": {},
   "source": [
    "## Se separan los dataset de entrenamiento y se cuentan los tokens (por rating)"
   ]
  },
  {
   "cell_type": "code",
   "execution_count": 5,
   "metadata": {},
   "outputs": [],
   "source": [
    "import random\n",
    "\n",
    "## Esta funcion toma el bag of words, y crea un diccionario con los tokens y su ocurrencia.\n",
    "def getDictionary(BoW): #BoW --> Bag of Words\n",
    "    cuenta = {}\n",
    "    for word in BoW:\n",
    "        if word not in cuenta.keys():\n",
    "            cuenta[word]= 1\n",
    "        if word in cuenta.keys():\n",
    "            cuenta[word]+=1 \n",
    "    return cuenta\n",
    "\n",
    "def getBoW(reviews):\n",
    "    BoW = []\n",
    "    for review in reviews:\n",
    "        BoW+=review\n",
    "    return BoW\n",
    "\n",
    "trainByRatings = list()\n",
    "testList = list()\n",
    "# acc = 0\n",
    "for scrap in reviewByStars:\n",
    "    largo = len(scrap)\n",
    "    temp=random.sample(list(scrap.review),largo)\n",
    "    train = temp[0:int(largo*0.8)]\n",
    "    test = temp[int(largo*0.8)+1:]\n",
    "\n",
    "    # Bag of Words\n",
    "    BoW=getBoW(train)\n",
    "    \n",
    "    for review in train:\n",
    "        BoW+=review\n",
    "#     vocabulary = len(set(BoW))\n",
    "    cuenta = getDictionary(BoW)\n",
    "            \n",
    "    testList.append(test)\n",
    "    trainByRatings.append(cuenta)\n",
    "#     acc=+1"
   ]
  },
  {
   "cell_type": "markdown",
   "metadata": {},
   "source": [
    "## Revisión de vocabularios"
   ]
  },
  {
   "cell_type": "code",
   "execution_count": 6,
   "metadata": {},
   "outputs": [
    {
     "name": "stdout",
     "output_type": "stream",
     "text": [
      "Tamaño del vocabulario (rating 10): 4840\n",
      "Tamaño del vocabulario (rating 20): 4947\n",
      "Tamaño del vocabulario (rating 30): 6635\n",
      "Tamaño del vocabulario (rating 40): 11014\n",
      "Tamaño del vocabulario (rating 50): 18842\n",
      "\n",
      "Total de tokens (rating 10): 51367\n",
      "Total de tokens (rating 20): 56356\n",
      "Total de tokens (rating 30): 118056\n",
      "Total de tokens (rating 40): 327094\n",
      "Total de tokens (rating 50): 931792\n"
     ]
    }
   ],
   "source": [
    "dict_10 = getDictionary(getBoW(reviewByStars[0].review))\n",
    "dict_20 = getDictionary(getBoW(reviewByStars[1].review))\n",
    "dict_30 = getDictionary(getBoW(reviewByStars[2].review))\n",
    "dict_40 = getDictionary(getBoW(reviewByStars[3].review))\n",
    "dict_50 = getDictionary(getBoW(reviewByStars[4].review))\n",
    "\n",
    "voc = [len(dict_10.keys()),len(dict_20.keys()),len(dict_30.keys()),len(dict_40.keys()),len(dict_50.keys())]\n",
    "tok = [sum(dict_10.values()),sum(dict_20.values()),sum(dict_30.values()),sum(dict_40.values()),sum(dict_50.values())]\n",
    "\n",
    "print('Tamaño del vocabulario (rating 10): ' + str(len(dict_10.keys())))\n",
    "print('Tamaño del vocabulario (rating 20): ' + str(len(dict_20.keys())))\n",
    "print('Tamaño del vocabulario (rating 30): ' + str(len(dict_30.keys())))\n",
    "print('Tamaño del vocabulario (rating 40): ' + str(len(dict_40.keys())))\n",
    "print('Tamaño del vocabulario (rating 50): ' + str(len(dict_50.keys())))\n",
    "print()\n",
    "print('Total de tokens (rating 10): ' + str(sum(dict_10.values())))\n",
    "print('Total de tokens (rating 20): ' + str(sum(dict_20.values())))\n",
    "print('Total de tokens (rating 30): ' + str(sum(dict_30.values())))\n",
    "print('Total de tokens (rating 40): ' + str(sum(dict_40.values())))\n",
    "print('Total de tokens (rating 50): ' + str(sum(dict_50.values())))"
   ]
  },
  {
   "cell_type": "code",
   "execution_count": 7,
   "metadata": {},
   "outputs": [
    {
     "data": {
      "image/png": "[encoded data removed]",
      "text/plain": [
       "<Figure size 432x288 with 1 Axes>"
      ]
     },
     "metadata": {
      "needs_background": "light"
     },
     "output_type": "display_data"
    }
   ],
   "source": [
    "# fig = plt.figure()\n",
    "# ax = fig.add_axes([0,0,1,1])\n",
    "\n",
    "fig, ax = plt.subplots()\n",
    "\n",
    "rating = [1,2,3,4,5]\n",
    "ax.bar(rating,tok, label='Tokens')\n",
    "ax.bar(rating,voc, label='Vocabulario')\n",
    "ax.legend()\n",
    "plt.show()"
   ]
  },
  {
   "cell_type": "code",
   "execution_count": 8,
   "metadata": {},
   "outputs": [],
   "source": [
    "# fig = plt.figure()\n",
    "# ax = fig.add_axes([0,0,1,1])\n",
    "\n",
    "# rating = agrupado['rating']\n",
    "# review = agrupado['review']\n",
    "# ax.bar(rating,review)\n",
    "# plt.show()"
   ]
  },
  {
   "cell_type": "markdown",
   "metadata": {},
   "source": [
    "## se calcula la probabilidad de los ratings"
   ]
  },
  {
   "cell_type": "code",
   "execution_count": 9,
   "metadata": {},
   "outputs": [
    {
     "data": {
      "text/plain": [
       "[{'rating': 1, 'probability': 0.026287036441930714},\n",
       " {'rating': 2, 'probability': 0.029436339096342953},\n",
       " {'rating': 3, 'probability': 0.0680635002249502},\n",
       " {'rating': 4, 'probability': 0.21743042611993058},\n",
       " {'rating': 5, 'probability': 0.6587826981168455}]"
      ]
     },
     "execution_count": 9,
     "metadata": {},
     "output_type": "execute_result"
    }
   ],
   "source": [
    "# como calcular los vocabularios\n",
    "#len(trainByRatings[0].keys())\n",
    "\n",
    "reviewProbability=list()\n",
    "for i in range(0,5):\n",
    "    reviewProbability.append({'rating':i+1,'probability':len(reviewByStars[i])/len(scrapped)})\n",
    "reviewProbability"
   ]
  },
  {
   "cell_type": "markdown",
   "metadata": {},
   "source": [
    "## se entrena (alimenta) un modelo bayesiano"
   ]
  },
  {
   "cell_type": "code",
   "execution_count": 10,
   "metadata": {},
   "outputs": [],
   "source": [
    "import numpy as np\n",
    "def bayes(test_review, trained_dict,reviewProb):\n",
    "    BoW = set(getBoW([test_review]))\n",
    "    # encontrar el vocabulario\n",
    "    vacabulary = 0\n",
    "    for dicc in trained_dict:\n",
    "        vacabulary += len(dicc.keys())\n",
    "    \n",
    "    # contar el total de palabras en el entrenamiento\n",
    "    conteo_C = list()\n",
    "    for dicc in trained_dict:\n",
    "        conteo_C.append(sum(dicc.values()))\n",
    "\n",
    "    bayes_suavizado=list()\n",
    "    for i in range(0,len(reviewProbability)):\n",
    "        acc=1\n",
    "        for word in BoW:\n",
    "            try:\n",
    "                conteo_WC = trained_dict[i][word]\n",
    "            except:\n",
    "                conteo_WC = 0\n",
    "            acc = acc*(conteo_WC+1)/(conteo_C[i]+vacabulary)\n",
    "        bayes_suavizado.append([reviewProbability[i]['probability'] * acc,i+1])\n",
    "                               \n",
    "    return bayes_suavizado"
   ]
  },
  {
   "cell_type": "markdown",
   "metadata": {},
   "source": [
    "## prueba del modelo"
   ]
  },
  {
   "cell_type": "code",
   "execution_count": 11,
   "metadata": {},
   "outputs": [
    {
     "name": "stdout",
     "output_type": "stream",
     "text": [
      "rating real: 2, most likely rating: 2\n"
     ]
    }
   ],
   "source": [
    "def get_prediction(testList,trainByRatings,reviewProbability):\n",
    "    result = bayes(testList,trainByRatings,reviewProbability)\n",
    "    prob = list()\n",
    "    for i in result:\n",
    "        prob.append(i[0])\n",
    "    index_min = np.argmax(prob)\n",
    "    return index_min\n",
    "\n",
    "# test de rating 10\n",
    "len(testList[0])\n",
    "rating_group = 2\n",
    "test=6\n",
    "\n",
    "result = get_prediction(testList[rating_group-1][test],trainByRatings,reviewProbability)\n",
    "print('rating real: '+ str(rating_group) +', most likely rating: '+str(result))\n"
   ]
  },
  {
   "cell_type": "code",
   "execution_count": 12,
   "metadata": {},
   "outputs": [
    {
     "name": "stdout",
     "output_type": "stream",
     "text": [
      "Rating: 1, media: 1.7407407407407407, mediana: 2.0, desviacion estandar: 1.331274130045291\n",
      "Rating: 2, media: 2.021978021978022, mediana: 2.0, desviacion estandar: 1.390533315176543\n",
      "Rating: 3, media: 2.5924170616113744, mediana: 3.0, desviacion estandar: 1.094899565388123\n",
      "Rating: 4, media: 3.2322485207100593, mediana: 3.0, desviacion estandar: 1.0223370533554441\n",
      "Rating: 5, media: 3.6134699853587118, mediana: 4.0, desviacion estandar: 1.0483360187464335\n"
     ]
    }
   ],
   "source": [
    "for group in range(0,5):\n",
    "    predictions=list()\n",
    "    for review in testList[group]:\n",
    "        predictions.append(get_prediction(review,trainByRatings,reviewProbability))\n",
    "    print('Rating: '+str(group+1)+', media: '+str(np.mean(predictions))+', mediana: '+str(np.median(predictions))+', desviacion estandar: '+str(np.std(predictions)))\n",
    "    "
   ]
  },
  {
   "cell_type": "markdown",
   "metadata": {},
   "source": [
    "Como podemos apreciar, el predictor Bayes no lo está haciendo tan mal, el problema puede ser los conectores lógicos que se comparten entre cada clase (ratings). Es posible que hacer una mejora en la presición si se removieran lo tokens que menos información aportan pero que más se repiten."
   ]
  }
 ],
 "metadata": {
  "kernelspec": {
   "display_name": "Python 3",
   "language": "python",
   "name": "python3"
  },
  "language_info": {
   "codemirror_mode": {
    "name": "ipython",
    "version": 3
   },
   "file_extension": ".py",
   "mimetype": "text/x-python",
   "name": "python",
   "nbconvert_exporter": "python",
   "pygments_lexer": "ipython3",
   "version": "3.7.4"
  }
 },
 "nbformat": 4,
 "nbformat_minor": 2
}
